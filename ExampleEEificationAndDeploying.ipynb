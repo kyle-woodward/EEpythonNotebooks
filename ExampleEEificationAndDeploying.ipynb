{
  "nbformat": 4,
  "nbformat_minor": 0,
  "metadata": {
    "colab": {
      "name": "ExampleEEificationAndDeploying.ipynb",
      "provenance": [],
      "machine_shape": "hm",
      "collapsed_sections": [],
      "include_colab_link": true
    },
    "kernelspec": {
      "name": "python3",
      "display_name": "Python 3"
    },
    "language_info": {
      "name": "python"
    },
    "accelerator": "GPU"
  },
  "cells": [
    {
      "cell_type": "markdown",
      "metadata": {
        "id": "view-in-github",
        "colab_type": "text"
      },
      "source": [
        "<a href=\"https://colab.research.google.com/github/kyle-woodward/EEpythonNotebooks/blob/main/ExampleEEificationAndDeploying.ipynb\" target=\"_parent\"><img src=\"https://colab.research.google.com/assets/colab-badge.svg\" alt=\"Open In Colab\"/></a>"
      ]
    },
    {
      "cell_type": "markdown",
      "source": [
        "## added .json dictionary of required model details to use in model inference\n",
        "Example notebook on loading a saved model and working through the steps to EE-ify the model and deplay to the AI platform for inferance in GEE.\n",
        "\n",
        "There have been some minor updates since the first pass of notebooks we have used for this process which are reflected in the current example of hosting a [Hostable DNN for prediction in Earth Engine](https://github.com/google/earthengine-api/blob/master/python/examples/ipynb/Earth_Engine_TensorFlow_AI_Platform.ipynb).\n",
        "\n"
      ],
      "metadata": {
        "id": "GJ6YYZBtWdRk"
      }
    },
    {
      "cell_type": "markdown",
      "source": [
        "# Authentication steps"
      ],
      "metadata": {
        "id": "lfsrNMNEXIPG"
      }
    },
    {
      "cell_type": "code",
      "execution_count": null,
      "metadata": {
        "id": "fOgyj7uWOYDJ"
      },
      "outputs": [],
      "source": [
        "import os\n",
        "# Cloud authentication.\n",
        "from google.colab import auth\n",
        "auth.authenticate_user()\n"
      ]
    },
    {
      "cell_type": "code",
      "source": [
        "# Import, authenticate and initialize the Earth Engine library.\n",
        "import ee\n",
        "try:\n",
        "    ee.Initialize()\n",
        "except Exception as e:\n",
        "    ee.Authenticate()\n",
        "    ee.Initialize()"
      ],
      "metadata": {
        "id": "JGjz4udpOhyt",
        "colab": {
          "base_uri": "https://localhost:8080/"
        },
        "outputId": "d392c52f-a3fb-4a01-a180-d608f2ed66ee"
      },
      "execution_count": null,
      "outputs": [
        {
          "output_type": "stream",
          "name": "stdout",
          "text": [
            "To authorize access needed by Earth Engine, open the following URL in a web browser and follow the instructions. If the web browser does not start automatically, please manually browse the URL below.\n",
            "\n",
            "    https://code.earthengine.google.com/client-auth?scopes=https%3A//www.googleapis.com/auth/earthengine%20https%3A//www.googleapis.com/auth/devstorage.full_control&request_id=JjrWvHoUx2mqtWeUw3oaIjLbfaWacZF2xiR7awE5aic&tc=EMsBQP0Z3vdJcxbdUckqPiH0pOIAfRFEAPKBppFrmn4&cc=4Lc41eb4-_pjuOJEBc-akwTaI7o_zKCCChn5W9femXA\n",
            "\n",
            "The authorization workflow will generate a code, which you should paste in the box below. \n",
            "Enter verification code: 4/1AX4XfWhgPAQZZvBo4EFhVqgTwpqrvKsXN230e72qLWBIdPPw8Zs1aw2u0K0\n",
            "\n",
            "Successfully saved authorization token.\n"
          ]
        }
      ]
    },
    {
      "cell_type": "code",
      "source": [
        "import tensorflow as tf\n",
        "from tensorflow import keras\n",
        "from tensorflow.keras import models\n",
        "from tensorflow.keras import layers\n",
        "from tensorflow.keras import callbacks\n",
        "from tensorflow.keras import backend as K"
      ],
      "metadata": {
        "id": "tNzRxrXROibX"
      },
      "execution_count": null,
      "outputs": []
    },
    {
      "cell_type": "code",
      "source": [
        "from dataclasses import dataclass\n",
        "import time\n",
        "\n",
        "\n",
        "@dataclass\n",
        "class model:\n",
        "  name: str\n",
        "  bucket:str\n",
        "  folder:str\n",
        "  project: str\n",
        "  "
      ],
      "metadata": {
        "id": "p5aJld26KGsT"
      },
      "execution_count": null,
      "outputs": []
    },
    {
      "cell_type": "markdown",
      "source": [
        "# Load a saved model\n",
        "\n",
        "Example loads a saved keras model in .h5 format. A TF dir could be loaded in the same manner as well."
      ],
      "metadata": {
        "id": "wxrVP6F_XQ6o"
      }
    },
    {
      "cell_type": "code",
      "source": [
        "model = model(\n",
        "    name = 'vgg16unet_model_kdw_sigmoid_mae_v18_rev2', # without .h5 file extension (gets added in later)\n",
        "    bucket = 'landfire',\n",
        "    folder = 'lucas/pools2fire_tf',\n",
        "    project = 'pyregence-ee'\n",
        ")\n",
        "\n",
        "# MODEL_NAME = 'vgg16unet_model_kdw_linear_huber_delta0_5_v5.h5'\n",
        "# BUCKET = 'landfire'\n",
        "# FOLDER = 'lucas/pools2fire_tf'\n",
        "\n",
        "model_path =  f\"gs://{model.bucket}/{model.folder}/{model.name}.h5\"\n",
        "# model_path =  f\"gs://{BUCKET}/{FOLDER}/{MODEL_NAME}\"\n",
        "# model.save(f\"{MODEL_NAME}.h5\")\n",
        "new_model = tf.keras.models.load_model(model_path)\n",
        "\n",
        "# Check its architecture\n",
        "new_model.summary()"
      ],
      "metadata": {
        "colab": {
          "base_uri": "https://localhost:8080/"
        },
        "id": "dh4sz2oDPFq6",
        "outputId": "9429dbbd-fbcf-4e74-c54d-b0368bae0618"
      },
      "execution_count": null,
      "outputs": [
        {
          "output_type": "stream",
          "name": "stdout",
          "text": [
            "Model: \"vgg16-unet\"\n",
            "__________________________________________________________________________________________________\n",
            " Layer (type)                   Output Shape         Param #     Connected to                     \n",
            "==================================================================================================\n",
            " input (InputLayer)             [(None, None, None,  0           []                               \n",
            "                                 18)]                                                             \n",
            "                                                                                                  \n",
            " block1_conv1 (Conv2D)          (None, None, None,   10432       ['input[0][0]']                  \n",
            "                                64)                                                               \n",
            "                                                                                                  \n",
            " block1_conv2 (Conv2D)          (None, None, None,   36928       ['block1_conv1[0][0]']           \n",
            "                                64)                                                               \n",
            "                                                                                                  \n",
            " block1_pool (MaxPooling2D)     (None, None, None,   0           ['block1_conv2[0][0]']           \n",
            "                                64)                                                               \n",
            "                                                                                                  \n",
            " block2_conv1 (Conv2D)          (None, None, None,   73856       ['block1_pool[0][0]']            \n",
            "                                128)                                                              \n",
            "                                                                                                  \n",
            " block2_conv2 (Conv2D)          (None, None, None,   147584      ['block2_conv1[0][0]']           \n",
            "                                128)                                                              \n",
            "                                                                                                  \n",
            " block2_pool (MaxPooling2D)     (None, None, None,   0           ['block2_conv2[0][0]']           \n",
            "                                128)                                                              \n",
            "                                                                                                  \n",
            " block3_conv1 (Conv2D)          (None, None, None,   295168      ['block2_pool[0][0]']            \n",
            "                                256)                                                              \n",
            "                                                                                                  \n",
            " block3_conv2 (Conv2D)          (None, None, None,   590080      ['block3_conv1[0][0]']           \n",
            "                                256)                                                              \n",
            "                                                                                                  \n",
            " block3_conv3 (Conv2D)          (None, None, None,   590080      ['block3_conv2[0][0]']           \n",
            "                                256)                                                              \n",
            "                                                                                                  \n",
            " block3_conv4 (Conv2D)          (None, None, None,   590080      ['block3_conv3[0][0]']           \n",
            "                                256)                                                              \n",
            "                                                                                                  \n",
            " block3_pool (MaxPooling2D)     (None, None, None,   0           ['block3_conv4[0][0]']           \n",
            "                                256)                                                              \n",
            "                                                                                                  \n",
            " block4_conv1 (Conv2D)          (None, None, None,   1180160     ['block3_pool[0][0]']            \n",
            "                                512)                                                              \n",
            "                                                                                                  \n",
            " block4_conv2 (Conv2D)          (None, None, None,   2359808     ['block4_conv1[0][0]']           \n",
            "                                512)                                                              \n",
            "                                                                                                  \n",
            " block4_conv3 (Conv2D)          (None, None, None,   2359808     ['block4_conv2[0][0]']           \n",
            "                                512)                                                              \n",
            "                                                                                                  \n",
            " block4_conv4 (Conv2D)          (None, None, None,   2359808     ['block4_conv3[0][0]']           \n",
            "                                512)                                                              \n",
            "                                                                                                  \n",
            " block4_pool (MaxPooling2D)     (None, None, None,   0           ['block4_conv4[0][0]']           \n",
            "                                512)                                                              \n",
            "                                                                                                  \n",
            " block5_conv1 (Conv2D)          (None, None, None,   2359808     ['block4_pool[0][0]']            \n",
            "                                512)                                                              \n",
            "                                                                                                  \n",
            " block5_conv2 (Conv2D)          (None, None, None,   2359808     ['block5_conv1[0][0]']           \n",
            "                                512)                                                              \n",
            "                                                                                                  \n",
            " block5_conv3 (Conv2D)          (None, None, None,   2359808     ['block5_conv2[0][0]']           \n",
            "                                512)                                                              \n",
            "                                                                                                  \n",
            " block5_conv4 (Conv2D)          (None, None, None,   2359808     ['block5_conv3[0][0]']           \n",
            "                                512)                                                              \n",
            "                                                                                                  \n",
            " block5_pool (MaxPooling2D)     (None, None, None,   0           ['block5_conv4[0][0]']           \n",
            "                                512)                                                              \n",
            "                                                                                                  \n",
            " decoder_block0_deconv1 (Conv2D  (None, None, None,   2359808    ['block5_pool[0][0]']            \n",
            " )                              512)                                                              \n",
            "                                                                                                  \n",
            " decoder_block0_batchnorm1 (Bat  (None, None, None,   2048       ['decoder_block0_deconv1[0][0]'] \n",
            " chNormalization)               512)                                                              \n",
            "                                                                                                  \n",
            " decoder_block0_dropout (Dropou  (None, None, None,   0          ['decoder_block0_batchnorm1[0][0]\n",
            " t)                             512)                             ']                               \n",
            "                                                                                                  \n",
            " decoder_block0_upsamp (UpSampl  (None, None, None,   0          ['decoder_block0_dropout[0][0]'] \n",
            " ing2D)                         512)                                                              \n",
            "                                                                                                  \n",
            " decoder_block2_deconv1 (Conv2D  (None, None, None,   2359808    ['decoder_block0_upsamp[0][0]']  \n",
            " )                              512)                                                              \n",
            "                                                                                                  \n",
            " decoder_block2_batchnorm1 (Bat  (None, None, None,   2048       ['decoder_block2_deconv1[0][0]'] \n",
            " chNormalization)               512)                                                              \n",
            "                                                                                                  \n",
            " decoder_block2_concat (Concate  (None, None, None,   0          ['decoder_block2_batchnorm1[0][0]\n",
            " nate)                          1024)                            ',                               \n",
            "                                                                  'block5_conv3[0][0]']           \n",
            "                                                                                                  \n",
            " decoder_block2_dropout (Dropou  (None, None, None,   0          ['decoder_block2_concat[0][0]']  \n",
            " t)                             1024)                                                             \n",
            "                                                                                                  \n",
            " decoder_block2_upsamp (UpSampl  (None, None, None,   0          ['decoder_block2_dropout[0][0]'] \n",
            " ing2D)                         1024)                                                             \n",
            "                                                                                                  \n",
            " decoder_block3_deconv1 (Conv2D  (None, None, None,   2359552    ['decoder_block2_upsamp[0][0]']  \n",
            " )                              256)                                                              \n",
            "                                                                                                  \n",
            " decoder_block3_batchnorm1 (Bat  (None, None, None,   1024       ['decoder_block3_deconv1[0][0]'] \n",
            " chNormalization)               256)                                                              \n",
            "                                                                                                  \n",
            " decoder_block3_concat (Concate  (None, None, None,   0          ['decoder_block3_batchnorm1[0][0]\n",
            " nate)                          768)                             ',                               \n",
            "                                                                  'block4_conv3[0][0]']           \n",
            "                                                                                                  \n",
            " decoder_block3_dropout (Dropou  (None, None, None,   0          ['decoder_block3_concat[0][0]']  \n",
            " t)                             768)                                                              \n",
            "                                                                                                  \n",
            " decoder_block3_upsamp (UpSampl  (None, None, None,   0          ['decoder_block3_dropout[0][0]'] \n",
            " ing2D)                         768)                                                              \n",
            "                                                                                                  \n",
            " decoder_block4_deconv1 (Conv2D  (None, None, None,   884864     ['decoder_block3_upsamp[0][0]']  \n",
            " )                              128)                                                              \n",
            "                                                                                                  \n",
            " decoder_block4_batchnorm1 (Bat  (None, None, None,   512        ['decoder_block4_deconv1[0][0]'] \n",
            " chNormalization)               128)                                                              \n",
            "                                                                                                  \n",
            " decoder_block4_concat (Concate  (None, None, None,   0          ['decoder_block4_batchnorm1[0][0]\n",
            " nate)                          384)                             ',                               \n",
            "                                                                  'block3_conv3[0][0]']           \n",
            "                                                                                                  \n",
            " decoder_block4_dropout (Dropou  (None, None, None,   0          ['decoder_block4_concat[0][0]']  \n",
            " t)                             384)                                                              \n",
            "                                                                                                  \n",
            " decoder_block4_upsamp (UpSampl  (None, None, None,   0          ['decoder_block4_dropout[0][0]'] \n",
            " ing2D)                         384)                                                              \n",
            "                                                                                                  \n",
            " decoder_block5_deconv1 (Conv2D  (None, None, None,   221248     ['decoder_block4_upsamp[0][0]']  \n",
            " )                              64)                                                               \n",
            "                                                                                                  \n",
            " decoder_block5_batchnorm1 (Bat  (None, None, None,   256        ['decoder_block5_deconv1[0][0]'] \n",
            " chNormalization)               64)                                                               \n",
            "                                                                                                  \n",
            " decoder_block5_concat (Concate  (None, None, None,   0          ['decoder_block5_batchnorm1[0][0]\n",
            " nate)                          192)                             ',                               \n",
            "                                                                  'block2_conv2[0][0]']           \n",
            "                                                                                                  \n",
            " decoder_block5_dropout (Dropou  (None, None, None,   0          ['decoder_block5_concat[0][0]']  \n",
            " t)                             192)                                                              \n",
            "                                                                                                  \n",
            " decoder_block5_upsamp (UpSampl  (None, None, None,   0          ['decoder_block5_dropout[0][0]'] \n",
            " ing2D)                         192)                                                              \n",
            "                                                                                                  \n",
            " out_block_concat1 (Concatenate  (None, None, None,   0          ['decoder_block5_upsamp[0][0]',  \n",
            " )                              256)                              'block1_conv2[0][0]']           \n",
            "                                                                                                  \n",
            " out_block_spatialdrop (Spatial  (None, None, None,   0          ['out_block_concat1[0][0]']      \n",
            " Dropout2D)                     256)                                                              \n",
            "                                                                                                  \n",
            " out_block_conv1 (Conv2D)       (None, None, None,   147520      ['out_block_spatialdrop[0][0]']  \n",
            "                                64)                                                               \n",
            "                                                                                                  \n",
            " out_block_batchnorm1 (BatchNor  (None, None, None,   256        ['out_block_conv1[0][0]']        \n",
            " malization)                    64)                                                               \n",
            "                                                                                                  \n",
            " out_block_conv2 (Conv2D)       (None, None, None,   36928       ['out_block_batchnorm1[0][0]']   \n",
            "                                64)                                                               \n",
            "                                                                                                  \n",
            " out_block_batchnorm2 (BatchNor  (None, None, None,   256        ['out_block_conv2[0][0]']        \n",
            " malization)                    64)                                                               \n",
            "                                                                                                  \n",
            " final_conv (Conv2D)            (None, None, None,   65          ['out_block_batchnorm2[0][0]']   \n",
            "                                1)                                                                \n",
            "                                                                                                  \n",
            " final_out (Activation)         (None, None, None,   0           ['final_conv[0][0]']             \n",
            "                                1)                                                                \n",
            "                                                                                                  \n",
            "==================================================================================================\n",
            "Total params: 28,409,217\n",
            "Trainable params: 28,406,017\n",
            "Non-trainable params: 3,200\n",
            "__________________________________________________________________________________________________\n"
          ]
        }
      ]
    },
    {
      "cell_type": "markdown",
      "source": [
        "#Save the trained model\n",
        "\n",
        "Export the trained model to TensorFlow SavedModel format in your cloud storage bucket. The Cloud Platform storage browser is useful for checking on these saved models. (taken directly from Hostable DNN for prediction in Earth Engine example).\n",
        "\n"
      ],
      "metadata": {
        "id": "e3r8upBzYEtP"
      }
    },
    {
      "cell_type": "markdown",
      "source": [
        "Note: do we need to save it as an 'estimator' TF DIR? or could we keep it in the .h5 format?\n",
        "\n",
        " A. I think so... get_meta_graph_def(TF_FIR) reads the graph from a directory. \n",
        " "
      ],
      "metadata": {
        "id": "Fs3mjiYoVs0m"
      }
    },
    {
      "cell_type": "code",
      "source": [
        "#  save the model as a TF Estimator which is what \n",
        "model.estimator = model.name.split('.')[0] + '_ESTIMATOR'\n",
        "model.tf_dir = 'gs://{}/{}/{}'.format(model.bucket,model.folder,model.estimator)\n",
        "print(model.tf_dir)\n",
        "tf.keras.models.save_model(new_model,model.tf_dir,save_format='tf')\n"
      ],
      "metadata": {
        "colab": {
          "base_uri": "https://localhost:8080/"
        },
        "id": "VAHv9ll6Q7l3",
        "outputId": "dd2b15e1-dd1e-4fe2-8ba0-c7137b408df9"
      },
      "execution_count": null,
      "outputs": [
        {
          "output_type": "stream",
          "name": "stdout",
          "text": [
            "gs://landfire/lucas/pools2fire_tf/vgg16unet_model_kdw_sigmoid_mae_v18_rev2_ESTIMATOR\n",
            "INFO:tensorflow:Assets written to: gs://landfire/lucas/pools2fire_tf/vgg16unet_model_kdw_sigmoid_mae_v18_rev2_ESTIMATOR/assets\n"
          ]
        }
      ]
    },
    {
      "cell_type": "markdown",
      "source": [
        "# EEification\n",
        "\n",
        "EEIfication prepares the model for hosting on [Google AI Platform](https://cloud.google.com/ai-platform).  Learn more about EEification from [this doc](https://developers.google.com/earth-engine/tensorflow#interacting-with-models-hosted-on-ai-platform).  First, get (and SET) input and output names of the nodes.  **CHANGE THE OUTPUT NAME TO SOMETHING THAT MAKES SENSE FOR YOUR MODEL!**  Keep the input name of 'array', which is how you'll pass data into the model (as an array image)."
      ],
      "metadata": {
        "id": "o3lpqeNWZT8u"
      }
    },
    {
      "cell_type": "code",
      "source": [
        "from tensorflow.python.tools import saved_model_utils\n",
        "model.output = 'pools2BP'\n",
        "\n",
        "meta_graph_def = saved_model_utils.get_meta_graph_def(model.tf_dir, 'serve')\n",
        "inputs = meta_graph_def.signature_def['serving_default'].inputs\n",
        "outputs = meta_graph_def.signature_def['serving_default'].outputs\n",
        "\n",
        "# Just get the first thing(s) from the serving signature def.  i.e. this\n",
        "# model only has a single input and a single output.\n",
        "input_name = None\n",
        "for k,v in inputs.items():\n",
        "    input_name = v.name\n",
        "    break\n",
        "\n",
        "output_name = None\n",
        "for k,v in outputs.items():\n",
        "    output_name = v.name\n",
        "    break\n",
        "\n",
        "# Make a dictionary that maps Earth Engine outputs and inputs to \n",
        "# AI Platform inputs and outputs, respectively.\n",
        "import json\n",
        "input_dict = \"'\" + json.dumps({input_name: \"array\"}) + \"'\"\n",
        "output_dict = \"'\" + json.dumps({output_name: model.output}) + \"'\"\n",
        "print(input_dict)\n",
        "print(output_dict)"
      ],
      "metadata": {
        "colab": {
          "base_uri": "https://localhost:8080/"
        },
        "id": "7dlsBPoiSP6k",
        "outputId": "ea61ba8e-6531-4c0b-fad8-db7d566f7d4b"
      },
      "execution_count": null,
      "outputs": [
        {
          "output_type": "stream",
          "name": "stdout",
          "text": [
            "'{\"serving_default_input:0\": \"array\"}'\n",
            "'{\"StatefulPartitionedCall:0\": \"pools2BP\"}'\n"
          ]
        }
      ]
    },
    {
      "cell_type": "markdown",
      "source": [
        "## Run the EEifier\n",
        "\n",
        "The actual EEification is handled by the `earthengine model prepare` command.  Note that you will need to set your Cloud Project prior to running the command."
      ],
      "metadata": {
        "id": "--2jubR2ZrWv"
      }
    },
    {
      "cell_type": "code",
      "source": [
        "# Put the EEified model next to the trained model directory.\n",
        "model.region = 'us-central1'\n",
        "model.eeified_dir = 'gs://{}/{}/eeified_{}/'.format(model.bucket,model.folder,model.estimator)\n",
        "# change to your specific project\n",
        "#PROJECT = 'pyregence-ee'\n",
        "#REGION = 'us-central1'\n",
        "# # You need to set the project before using the model prepare command.\n",
        "!earthengine set_project {model.project}\n",
        "!earthengine model prepare --source_dir {model.tf_dir} --dest_dir {model.eeified_dir} --input {input_dict} --output {output_dict}"
      ],
      "metadata": {
        "colab": {
          "base_uri": "https://localhost:8080/"
        },
        "id": "ysqZ00LmSZhT",
        "outputId": "af5d52b1-2ff7-41c3-e794-f48148a4c6cd"
      },
      "execution_count": null,
      "outputs": [
        {
          "output_type": "stream",
          "name": "stdout",
          "text": [
            "Successfully saved project id\n",
            "Warning: TensorFlow Addons not found. Models that use non-standard ops may not work.\n",
            "Success: model at 'gs://landfire/lucas/pools2fire_tf/eeified_vgg16unet_model_kdw_sigmoid_mae_v18_rev2_ESTIMATOR/' is ready to be hosted in AI Platform.\n"
          ]
        }
      ]
    },
    {
      "cell_type": "markdown",
      "source": [
        "# Deploy and host the EEified model on AI Platform\n",
        "\n",
        "Now there is another TensorFlow `SavedModel` stored in `EEIFIED_DIR` ready for hosting by AI Platform.  Do that from the `gcloud` command line tool, installed in the Colab runtime by default.  Be sure to specify a regional model with the `REGION` parameter.  Note that the `MODEL_NAME` must be unique.  If you already have a model by that name, either name a new model or a new version of the old model.  The [Cloud Console AI Platform models page](https://console.cloud.google.com/ai-platform/models) is useful for monitoring your models.\n",
        "\n",
        "**If you change anything about the trained model, you'll need to re-EEify it and create a new version!**"
      ],
      "metadata": {
        "id": "6CHbGuXwZxWR"
      }
    },
    {
      "cell_type": "code",
      "source": [
        "!gcloud ai-platform models create {model.estimator} --project {model.project} --region {model.region}"
      ],
      "metadata": {
        "id": "hNnN5kXZTaJQ",
        "colab": {
          "base_uri": "https://localhost:8080/"
        },
        "outputId": "afb73502-27c8-4f1c-ffb3-d2573bcba5e1"
      },
      "execution_count": null,
      "outputs": [
        {
          "output_type": "stream",
          "name": "stdout",
          "text": [
            "Using endpoint [https://us-central1-ml.googleapis.com/]\n",
            "Created ai platform model [projects/pyregence-ee/models/vgg16unet_model_kdw_sigmoid_mae_v18_rev2_ESTIMATOR].\n"
          ]
        }
      ]
    },
    {
      "cell_type": "code",
      "source": [
        "import time\n",
        "\n",
        "#MODEL_NAME = MODEL_NAME_ESTIMATOR\n",
        "model.version = 'v' + str(int(time.time()))\n",
        "print('Creating version: ' + model.version)\n",
        "\n",
        "!gcloud ai-platform versions create {model.version} \\\n",
        "  --project {model.project} \\\n",
        "  --region {model.region} \\\n",
        "  --model {model.estimator} \\\n",
        "  --origin {model.eeified_dir} \\\n",
        "  --framework \"TENSORFLOW\" \\\n",
        "  --runtime-version=2.3 \\\n",
        "  --python-version=3.7"
      ],
      "metadata": {
        "colab": {
          "base_uri": "https://localhost:8080/"
        },
        "id": "YGYjek1HSubL",
        "outputId": "ff2caf15-c61f-4b83-d9d2-a54a7fd189c2"
      },
      "execution_count": null,
      "outputs": [
        {
          "output_type": "stream",
          "name": "stdout",
          "text": [
            "Creating version: v1651845684\n",
            "Using endpoint [https://us-central1-ml.googleapis.com/]\n"
          ]
        }
      ]
    },
    {
      "cell_type": "code",
      "source": [
        "print('MODEL_NAME=',model.name)\n",
        "print('VERSION_NAME=',model.version)\n",
        "print('PROJECT=',model.project)"
      ],
      "metadata": {
        "colab": {
          "base_uri": "https://localhost:8080/"
        },
        "id": "dvi4PqsrdJu7",
        "outputId": "975b84fe-649c-478a-8a24-5c9b6edc4a14"
      },
      "execution_count": null,
      "outputs": [
        {
          "output_type": "stream",
          "name": "stdout",
          "text": [
            "MODEL_NAME= vgg16unet_model_kdw_sigmoid_mae_v18_rev2\n",
            "VERSION_NAME= v1651845684\n",
            "PROJECT= pyregence-ee\n"
          ]
        }
      ]
    },
    {
      "cell_type": "markdown",
      "source": [
        "# export all model eeification params to a .json to use for inference"
      ],
      "metadata": {
        "id": "zJCaLFq9ZZFB"
      }
    },
    {
      "cell_type": "code",
      "source": [
        "model.__dict__"
      ],
      "metadata": {
        "colab": {
          "base_uri": "https://localhost:8080/"
        },
        "id": "GZdjPQhAxVOE",
        "outputId": "5abb46ab-f4ff-4836-cf38-56b8a9369fa7"
      },
      "execution_count": null,
      "outputs": [
        {
          "output_type": "execute_result",
          "data": {
            "text/plain": [
              "{'bucket': 'landfire',\n",
              " 'eeified_dir': 'gs://landfire/lucas/pools2fire_tf/eeified_vgg16unet_model_kdw_sigmoid_mae_v18_rev2_ESTIMATOR/',\n",
              " 'estimator': 'vgg16unet_model_kdw_sigmoid_mae_v18_rev2_ESTIMATOR',\n",
              " 'folder': 'lucas/pools2fire_tf',\n",
              " 'name': 'vgg16unet_model_kdw_sigmoid_mae_v18_rev2',\n",
              " 'output': 'pools2BP',\n",
              " 'project': 'pyregence-ee',\n",
              " 'region': 'us-central1',\n",
              " 'tf_dir': 'gs://landfire/lucas/pools2fire_tf/vgg16unet_model_kdw_sigmoid_mae_v18_rev2_ESTIMATOR',\n",
              " 'version': 'v1651845684'}"
            ]
          },
          "metadata": {},
          "execution_count": 12
        }
      ]
    },
    {
      "cell_type": "code",
      "source": [
        "from google.cloud import storage\n",
        "import json\n",
        "\n",
        "def upload_blob(bucket_name, source_file_name, destination_blob_name):\n",
        "  \"\"\"Uploads a file to the bucket.\"\"\"\n",
        "  # TODO : add project name to tf_run or tf_samples\n",
        "  storage_client = storage.Client('pyregence')\n",
        "  bucket = storage_client.get_bucket(bucket_name)\n",
        "  blob = bucket.blob(destination_blob_name)\n",
        "\n",
        "  blob.upload_from_filename(source_file_name)\n",
        "\n",
        "  print('File {} uploaded to {}.'.format(\n",
        "      source_file_name,\n",
        "      destination_blob_name))\n",
        "  \n",
        "model_file_name = f\"{model.name.split('.')[0]}.json\"\n",
        "model_file_dest = f\"{model.folder}/{model_file_name}\"\n",
        "print(model_file_name)\n",
        "print(model_file_dest)\n",
        "with open(model_file_name, 'w') as fp:\n",
        "    json.dump(model.__dict__, fp)\n",
        "\n",
        "upload_blob(model.bucket, model_file_name, model_file_dest)"
      ],
      "metadata": {
        "colab": {
          "base_uri": "https://localhost:8080/"
        },
        "id": "ReT_jgRTP8qd",
        "outputId": "29ba5230-5f17-4117-add9-13ff3c6e40cf"
      },
      "execution_count": null,
      "outputs": [
        {
          "output_type": "stream",
          "name": "stdout",
          "text": [
            "vgg16unet_model_kdw_sigmoid_mae_v18_rev2.json\n",
            "lucas/pools2fire_tf/vgg16unet_model_kdw_sigmoid_mae_v18_rev2.json\n",
            "File vgg16unet_model_kdw_sigmoid_mae_v18_rev2.json uploaded to lucas/pools2fire_tf/vgg16unet_model_kdw_sigmoid_mae_v18_rev2.json.\n"
          ]
        }
      ]
    },
    {
      "cell_type": "code",
      "source": [
        ""
      ],
      "metadata": {
        "id": "1e3fjE_BvAo0"
      },
      "execution_count": null,
      "outputs": []
    }
  ]
}